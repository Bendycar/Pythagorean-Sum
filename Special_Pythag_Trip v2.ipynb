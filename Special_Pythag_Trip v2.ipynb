{
 "cells": [
  {
   "cell_type": "code",
   "execution_count": 22,
   "id": "92a27925-8c2b-435d-9cfe-211d4d4890d2",
   "metadata": {},
   "outputs": [],
   "source": [
    "import numpy as np"
   ]
  },
  {
   "cell_type": "code",
   "execution_count": 23,
   "id": "c280bac5-d02a-4bea-96dd-47cb19bd04bf",
   "metadata": {},
   "outputs": [],
   "source": [
    "def pythag(a,b):\n",
    "    c_sq = a ** 2 + b ** 2\n",
    "    c = np.sqrt(c_sq)\n",
    "    return c"
   ]
  },
  {
   "cell_type": "code",
   "execution_count": 24,
   "id": "d766deaa-9808-4892-9637-b08f27e8e13d",
   "metadata": {},
   "outputs": [
    {
     "name": "stdout",
     "output_type": "stream",
     "text": [
      "200 375 425.0\n"
     ]
    }
   ],
   "source": [
    "def triple(x):\n",
    "    for b in range(1,x):\n",
    "        for a in range(1,b):\n",
    "            c = pythag(a,b)\n",
    "            if a + b + c == x:\n",
    "                print(a, b, c)\n",
    "x = 1000\n",
    "triple(x)"
   ]
  },
  {
   "cell_type": "code",
   "execution_count": null,
   "id": "28e8c882-ea62-4dde-99dd-53a8df9dac38",
   "metadata": {},
   "outputs": [],
   "source": []
  },
  {
   "cell_type": "code",
   "execution_count": null,
   "id": "aa772a4e-00a3-4b83-af67-912f31552e78",
   "metadata": {},
   "outputs": [],
   "source": []
  }
 ],
 "metadata": {
  "kernelspec": {
   "display_name": "Python 3 (ipykernel)",
   "language": "python",
   "name": "python3"
  },
  "language_info": {
   "codemirror_mode": {
    "name": "ipython",
    "version": 3
   },
   "file_extension": ".py",
   "mimetype": "text/x-python",
   "name": "python",
   "nbconvert_exporter": "python",
   "pygments_lexer": "ipython3",
   "version": "3.11.6"
  }
 },
 "nbformat": 4,
 "nbformat_minor": 5
}
